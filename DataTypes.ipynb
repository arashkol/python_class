{
  "nbformat": 4,
  "nbformat_minor": 0,
  "metadata": {
    "colab": {
      "provenance": [],
      "authorship_tag": "ABX9TyOJmOelwiXVjzdRlZdTrjbV",
      "include_colab_link": true
    },
    "kernelspec": {
      "name": "python3",
      "display_name": "Python 3"
    },
    "language_info": {
      "name": "python"
    }
  },
  "cells": [
    {
      "cell_type": "markdown",
      "metadata": {
        "id": "view-in-github",
        "colab_type": "text"
      },
      "source": [
        "<a href=\"https://colab.research.google.com/github/arashkol/python_class/blob/main/DataTypes.ipynb\" target=\"_parent\"><img src=\"https://colab.research.google.com/assets/colab-badge.svg\" alt=\"Open In Colab\"/></a>"
      ]
    },
    {
      "cell_type": "markdown",
      "source": [
        "Python is a high-level programming language that has several built-in data types to store and manipulate data. These data types can be categorized into two types based on mutability: Mutable and Immutable.\n",
        "\n",
        "Data types can be changed after they are created, while immutable data types cannot be changed.\n",
        "\n",
        "1.   Mutable data types:\n",
        "\n",
        "  *  **List**: a collection of elements, which can be of any data type, for example, [1, 2, 3], [\"apple\", \"banana\", \"cherry\"], etc. Lists are mutable, meaning that the elements in a list can be changed after the list is created. For example, you can add or remove elements from a list, or change an element in a list.\n",
        "  *   **Dictionary**: a collection of key-value pairs, where each key maps to a unique value, for example, {'name': 'John', 'age': 30}, etc. Dictionaries are also mutable, meaning that you can add, remove, or change the key-value pairs in a dictionary after it is created.\n",
        "\n",
        "2.   Immutable data types:\n",
        "  *   **Integer** (int): a whole number, for example, -2, -1, 0, 1, 2, ... .\n",
        "  *   **Float** (float): a decimal number, for example, 1.5, -3.14, ... .\n",
        "  *   **String** (str): a sequence of characters, for example, \"Hello World!\", \"123\", etc.\n",
        "  *   **Tuple**: an immutable collection of elements, which can be of any data type, for example, (1, 2, 3), (\"apple\", \"banana\", \"cherry\").\n",
        "  *   **Set**: a collection of unique elements, for example, {1, 2, 3}, {\"apple\", \"banana\", \"cherry\"}.\n",
        "\n",
        "It is important to understand the difference between mutable and immutable data types in Python, as this can affect the behavior of your code and the way that data is stored and manipulated.\n",
        "\n",
        "\n"
      ],
      "metadata": {
        "id": "rmHFlPv5QcDo"
      }
    },
    {
      "cell_type": "code",
      "source": [
        "#from copy import copy\n",
        "# Example of a mutable list\n",
        "fruits = [\"apple\", \"banana\", \"cherry\"]\n",
        "print(fruits)\n",
        "\n",
        "#other_fruits = fruits\n",
        "#copied_fruits = copy(fruits)"
      ],
      "metadata": {
        "colab": {
          "base_uri": "https://localhost:8080/"
        },
        "id": "T3hDv6dLQfSm",
        "outputId": "2cf5a00e-096f-45ce-c1b8-0b417b385362"
      },
      "execution_count": 41,
      "outputs": [
        {
          "output_type": "stream",
          "name": "stdout",
          "text": [
            "['apple', 'banana', 'cherry']\n"
          ]
        }
      ]
    },
    {
      "cell_type": "code",
      "source": [
        "# Modifying the list by replacing an element\n",
        "print(fruits[0])\n",
        "fruits[0] = \"water melon\"\n",
        "print(fruits[0])\n",
        "print(\"fruits: \",fruits)\n",
        "#print(\"other_fruits: \",other_fruits)\n",
        "#print(\"copied_fruits: \",copied_fruits)\n"
      ],
      "metadata": {
        "colab": {
          "base_uri": "https://localhost:8080/"
        },
        "id": "072Vvf2HREL4",
        "outputId": "89520c19-722e-4255-c269-72d3dfbc4764"
      },
      "execution_count": 42,
      "outputs": [
        {
          "output_type": "stream",
          "name": "stdout",
          "text": [
            "apple\n",
            "water melon\n",
            "fruits:  ['water melon', 'banana', 'cherry']\n"
          ]
        }
      ]
    },
    {
      "cell_type": "code",
      "source": [
        "# Modifying the list by adding an element\n",
        "fruits.append(\"orange\")\n",
        "print(fruits)"
      ],
      "metadata": {
        "colab": {
          "base_uri": "https://localhost:8080/"
        },
        "id": "_OlCGcpHRIMY",
        "outputId": "76666df4-22d3-4c7f-c3a4-bdb79f418728"
      },
      "execution_count": 43,
      "outputs": [
        {
          "output_type": "stream",
          "name": "stdout",
          "text": [
            "['water melon', 'banana', 'cherry', 'orange']\n"
          ]
        }
      ]
    },
    {
      "cell_type": "code",
      "source": [
        "# Example of a mutable dictionary\n",
        "person = {\"name\": \"John\", \"age\": 30}\n",
        "print(person)\n",
        "person[\"city\"] = \"Berlin\"\n",
        "print(person)"
      ],
      "metadata": {
        "colab": {
          "base_uri": "https://localhost:8080/"
        },
        "id": "ePaffDUGROpZ",
        "outputId": "256758d0-a6c8-4c6b-82ad-70d92dbaa3eb"
      },
      "execution_count": 44,
      "outputs": [
        {
          "output_type": "stream",
          "name": "stdout",
          "text": [
            "{'name': 'John', 'age': 30}\n",
            "{'name': 'John', 'age': 30, 'city': 'Berlin'}\n"
          ]
        }
      ]
    },
    {
      "cell_type": "code",
      "source": [
        "# Modifying the dictionary by updating a value\n",
        "person[\"age\"] = 31\n",
        "print(person)"
      ],
      "metadata": {
        "colab": {
          "base_uri": "https://localhost:8080/"
        },
        "id": "ibrbsaCgRRUN",
        "outputId": "4a4c4579-0d15-4675-c8f5-6c7e0f276188"
      },
      "execution_count": 45,
      "outputs": [
        {
          "output_type": "stream",
          "name": "stdout",
          "text": [
            "{'name': 'John', 'age': 31, 'city': 'Berlin'}\n"
          ]
        }
      ]
    },
    {
      "cell_type": "code",
      "source": [
        "#Attempting to modify immutable type String\n",
        "# Creating a string and assigning it to a variable `message`\n",
        "message = \"Hello World\"\n",
        "\n",
        "# Attempting to change a character in the string\n",
        "message[0] = 'h'\n",
        "\n",
        "# This operation results in a TypeError, as strings are immutable in Python"
      ],
      "metadata": {
        "colab": {
          "base_uri": "https://localhost:8080/",
          "height": 244
        },
        "id": "sveTohVCSH_G",
        "outputId": "84ea34ec-2bc3-4b3b-df55-c6c5fda7c400"
      },
      "execution_count": 10,
      "outputs": [
        {
          "output_type": "error",
          "ename": "TypeError",
          "evalue": "ignored",
          "traceback": [
            "\u001b[0;31m---------------------------------------------------------------------------\u001b[0m",
            "\u001b[0;31mTypeError\u001b[0m                                 Traceback (most recent call last)",
            "\u001b[0;32m<ipython-input-10-955030e4c293>\u001b[0m in \u001b[0;36m<module>\u001b[0;34m\u001b[0m\n\u001b[1;32m      4\u001b[0m \u001b[0;34m\u001b[0m\u001b[0m\n\u001b[1;32m      5\u001b[0m \u001b[0;31m# Attempting to change a character in the string\u001b[0m\u001b[0;34m\u001b[0m\u001b[0;34m\u001b[0m\u001b[0;34m\u001b[0m\u001b[0m\n\u001b[0;32m----> 6\u001b[0;31m \u001b[0mmessage\u001b[0m\u001b[0;34m[\u001b[0m\u001b[0;36m0\u001b[0m\u001b[0;34m]\u001b[0m \u001b[0;34m=\u001b[0m \u001b[0;34m'h'\u001b[0m\u001b[0;34m\u001b[0m\u001b[0;34m\u001b[0m\u001b[0m\n\u001b[0m\u001b[1;32m      7\u001b[0m \u001b[0;34m\u001b[0m\u001b[0m\n\u001b[1;32m      8\u001b[0m \u001b[0;31m# This operation results in a TypeError, as strings are immutable in Python\u001b[0m\u001b[0;34m\u001b[0m\u001b[0;34m\u001b[0m\u001b[0;34m\u001b[0m\u001b[0m\n",
            "\u001b[0;31mTypeError\u001b[0m: 'str' object does not support item assignment"
          ]
        }
      ]
    },
    {
      "cell_type": "code",
      "source": [
        "#Attempting to modify immutable type String\n",
        "# Creating a string and assigning it to a variable `message`\n",
        "message_1 = \"Hello World\"\n",
        "\n",
        "# Creating a new string with the desired modifications\n",
        "message_2 = message_1.replace(\"Hello\", \"Hi\")\n",
        "\n",
        "# The original string is not modified, instead a new string with the desired changes is created\n",
        "print(message_1)\n",
        "print(message_2)"
      ],
      "metadata": {
        "colab": {
          "base_uri": "https://localhost:8080/"
        },
        "id": "Qow-3kxWS-wn",
        "outputId": "3007d3b6-5ead-45e5-ebdf-824b7ff59c94"
      },
      "execution_count": 11,
      "outputs": [
        {
          "output_type": "stream",
          "name": "stdout",
          "text": [
            "Hello World\n",
            "Hi World\n"
          ]
        }
      ]
    },
    {
      "cell_type": "code",
      "source": [
        "# Creating a tuple and assigning it to a variable `coordinate`\n",
        "coordinate = (10, 20)\n",
        "\n",
        "print(coordinate[0])\n",
        "\n",
        "# Attempting to change an element in the tuple\n",
        "coordinate[0] = 30"
      ],
      "metadata": {
        "colab": {
          "base_uri": "https://localhost:8080/",
          "height": 226
        },
        "id": "Mrb_OnITFvoD",
        "outputId": "a30b7abf-6bd6-4186-f702-e5a7139e05c0"
      },
      "execution_count": 12,
      "outputs": [
        {
          "output_type": "stream",
          "name": "stdout",
          "text": [
            "10\n"
          ]
        },
        {
          "output_type": "error",
          "ename": "TypeError",
          "evalue": "ignored",
          "traceback": [
            "\u001b[0;31m---------------------------------------------------------------------------\u001b[0m",
            "\u001b[0;31mTypeError\u001b[0m                                 Traceback (most recent call last)",
            "\u001b[0;32m<ipython-input-12-18d3cfbbd316>\u001b[0m in \u001b[0;36m<module>\u001b[0;34m\u001b[0m\n\u001b[1;32m      5\u001b[0m \u001b[0;34m\u001b[0m\u001b[0m\n\u001b[1;32m      6\u001b[0m \u001b[0;31m# Attempting to change an element in the tuple\u001b[0m\u001b[0;34m\u001b[0m\u001b[0;34m\u001b[0m\u001b[0;34m\u001b[0m\u001b[0m\n\u001b[0;32m----> 7\u001b[0;31m \u001b[0mcoordinate\u001b[0m\u001b[0;34m[\u001b[0m\u001b[0;36m0\u001b[0m\u001b[0;34m]\u001b[0m \u001b[0;34m=\u001b[0m \u001b[0;36m30\u001b[0m\u001b[0;34m\u001b[0m\u001b[0;34m\u001b[0m\u001b[0m\n\u001b[0m",
            "\u001b[0;31mTypeError\u001b[0m: 'tuple' object does not support item assignment"
          ]
        }
      ]
    },
    {
      "cell_type": "code",
      "source": [
        "# Creating a tuple and assigning it to a variable `coordinate`\n",
        "coordinate_1 = (10, 20)\n",
        "\n",
        "# Attempting to change the value of the tuple\n",
        "coordinate_2 = (coordinate_1[0] + 20, coordinate_1[1] + 30)\n",
        "\n",
        "# The value of the tuple has changed, but a new tuple object has been created, not a modification of the original tuple\n",
        "print(coordinate_1)\n",
        "print(coordinate_2)\n"
      ],
      "metadata": {
        "colab": {
          "base_uri": "https://localhost:8080/"
        },
        "id": "UYbouXTgEud2",
        "outputId": "b935fd68-2cfd-4489-d3d0-b67be1c82b97"
      },
      "execution_count": 14,
      "outputs": [
        {
          "output_type": "stream",
          "name": "stdout",
          "text": [
            "(10, 20)\n",
            "(30, 50)\n"
          ]
        }
      ]
    },
    {
      "cell_type": "markdown",
      "source": [
        "# Summary of Mutability of Data Types\n",
        "Data Type | Mutability | Declaration | Popular Functions \n",
        "- |  | |  |\n",
        "Dictionary | Not Mutable | dict_a = {} or dict_a = dict()| keys(), values(), items()\n",
        "  |  |  |\n",
        "List | Mutable |  list_a  = [] or list_a = list()| append(), insert(), extend(), remove()\n",
        " |  |  |\n",
        "Tuple | Not Mutable |tup_a  = () or tup_a = tuple()| count(), index()\n",
        " |  |  |\n",
        "String | Not Mutable | string_a  = \"\" or string_1 = str()| len(), upper(), lower(), strip()\n",
        " |  |  |\n",
        "Set | Mutable | set_a  = set() | add(), remove(), discard(), union(), intersection()\n"
      ],
      "metadata": {
        "id": "58_EhxjbIAks"
      }
    },
    {
      "cell_type": "code",
      "source": [
        "# Set operations\n",
        "from matplotlib_venn import venn2\n",
        "import matplotlib.pyplot as plt\n",
        "\n",
        "set_1 = {1, 2, 3}\n",
        "set_2 = {3, 4, 5}\n",
        "#set_2.add(4)\n",
        "\n",
        "venn = venn2([set_1, set_2])\n",
        "venn.get_label_by_id('10').set_text('Set 1\\n' + str(set_1))\n",
        "venn.get_label_by_id('01').set_text('Set 2\\n' + str(set_2))\n",
        "venn.get_label_by_id('11').set_text('Intersection\\n' + str(set_1 & set_2))\n",
        "\n",
        "plt.show()"
      ],
      "metadata": {
        "colab": {
          "base_uri": "https://localhost:8080/",
          "height": 250
        },
        "id": "bmSirVD9If1_",
        "outputId": "1b9f45f7-b313-4042-905e-633cb4881d1c"
      },
      "execution_count": 25,
      "outputs": [
        {
          "output_type": "display_data",
          "data": {
            "text/plain": [
              "<Figure size 432x288 with 1 Axes>"
            ],
            "image/png": "[encoded data removed]"
          },
          "metadata": {}
        }
      ]
    },
    {
      "cell_type": "code",
      "source": [
        "import matplotlib.pyplot as plt\n",
        "import numpy as np\n",
        "\n",
        "my_list = [1, 2, 3, 4, 5]\n",
        "#my_list.append(5)\n",
        "\n",
        "plt.scatter(np.arange(len(my_list)), my_list)\n",
        "plt.show()\n"
      ],
      "metadata": {
        "colab": {
          "base_uri": "https://localhost:8080/",
          "height": 265
        },
        "id": "O5fSmDL8Igkm",
        "outputId": "04977721-1b4d-4f41-cce1-3059fcab60ad"
      },
      "execution_count": 24,
      "outputs": [
        {
          "output_type": "display_data",
          "data": {
            "text/plain": [
              "<Figure size 432x288 with 1 Axes>"
            ],
            "image/png": "[encoded data removed]"
          },
          "metadata": {
            "needs_background": "light"
          }
        }
      ]
    },
    {
      "cell_type": "code",
      "source": [
        "import matplotlib.pyplot as plt\n",
        "import numpy as np\n",
        "\n",
        "my_list = [1, 2, 3, 4, 5]\n",
        "x = np.arange(len(my_list))\n",
        "\n",
        "plt.plot(x, my_list)\n",
        "plt.show()"
      ],
      "metadata": {
        "colab": {
          "base_uri": "https://localhost:8080/",
          "height": 265
        },
        "id": "z_YMR065I930",
        "outputId": "f36b2425-713d-4a36-fba1-7affdfc82f12"
      },
      "execution_count": 46,
      "outputs": [
        {
          "output_type": "display_data",
          "data": {
            "text/plain": [
              "<Figure size 432x288 with 1 Axes>"
            ],
            "image/png": "[encoded data removed]"
          },
          "metadata": {
            "needs_background": "light"
          }
        }
      ]
    },
    {
      "cell_type": "code",
      "source": [
        "my_list.append(len(my_list) + 1)\n",
        "x = np.arange(len(my_list))\n",
        "plt.plot(x, my_list)\n",
        "plt.show()"
      ],
      "metadata": {
        "colab": {
          "base_uri": "https://localhost:8080/",
          "height": 265
        },
        "id": "YG9t8sS3STao",
        "outputId": "0ef00b9e-04cd-416b-b425-41ea71042717"
      },
      "execution_count": 47,
      "outputs": [
        {
          "output_type": "display_data",
          "data": {
            "text/plain": [
              "<Figure size 432x288 with 1 Axes>"
            ],
            "image/png": "[encoded data removed]"
          },
          "metadata": {
            "needs_background": "light"
          }
        }
      ]
    },
    {
      "cell_type": "code",
      "source": [
        "my_list.sort()\n",
        "x = np.arange(len(my_list))\n",
        "plt.plot(x, my_list)\n",
        "plt.show()"
      ],
      "metadata": {
        "colab": {
          "base_uri": "https://localhost:8080/",
          "height": 265
        },
        "id": "UEp8TodkSV8k",
        "outputId": "e8b6962e-8ff8-4d9a-cded-04366cc1f9a9"
      },
      "execution_count": 48,
      "outputs": [
        {
          "output_type": "display_data",
          "data": {
            "text/plain": [
              "<Figure size 432x288 with 1 Axes>"
            ],
            "image/png": "[encoded data removed]"
          },
          "metadata": {
            "needs_background": "light"
          }
        }
      ]
    },
    {
      "cell_type": "code",
      "source": [
        "my_list.reverse()\n",
        "x = np.arange(len(my_list))\n",
        "plt.plot(x, my_list)\n",
        "plt.show()"
      ],
      "metadata": {
        "colab": {
          "base_uri": "https://localhost:8080/",
          "height": 265
        },
        "id": "BG9ntdzySZqn",
        "outputId": "91029ced-f6d2-47f5-974f-2f6c8502231e"
      },
      "execution_count": 49,
      "outputs": [
        {
          "output_type": "display_data",
          "data": {
            "text/plain": [
              "<Figure size 432x288 with 1 Axes>"
            ],
            "image/png": "[encoded data removed]"
          },
          "metadata": {
            "needs_background": "light"
          }
        }
      ]
    },
    {
      "cell_type": "code",
      "source": [
        "my_list.insert(2, 10)\n",
        "x = np.arange(len(my_list))\n",
        "plt.plot(x, my_list)\n",
        "plt.show()"
      ],
      "metadata": {
        "colab": {
          "base_uri": "https://localhost:8080/",
          "height": 265
        },
        "id": "uuNJY79LScUZ",
        "outputId": "0606092c-958b-45f8-8b12-621187e9352a"
      },
      "execution_count": 50,
      "outputs": [
        {
          "output_type": "display_data",
          "data": {
            "text/plain": [
              "<Figure size 432x288 with 1 Axes>"
            ],
            "image/png": "[encoded data removed]"
          },
          "metadata": {
            "needs_background": "light"
          }
        }
      ]
    },
    {
      "cell_type": "code",
      "source": [
        "string1 = \"Hello\"\n",
        "string2 = \"World\"\n",
        "string3 = string1 + \" \" + string2\n",
        "print(string3)"
      ],
      "metadata": {
        "colab": {
          "base_uri": "https://localhost:8080/"
        },
        "id": "mHfl-KTHJb_J",
        "outputId": "5e4115af-d070-4534-ec9b-0268395fef1e"
      },
      "execution_count": 27,
      "outputs": [
        {
          "output_type": "stream",
          "name": "stdout",
          "text": [
            "Hello World\n"
          ]
        }
      ]
    },
    {
      "cell_type": "code",
      "source": [
        "string1 = \"Hello\"\n",
        "string2 = string1 * 3\n",
        "print(string2)"
      ],
      "metadata": {
        "colab": {
          "base_uri": "https://localhost:8080/"
        },
        "id": "xIWZBsZsNFSI",
        "outputId": "ac843f56-3f12-4e98-8d46-ddf878a3b17e"
      },
      "execution_count": 28,
      "outputs": [
        {
          "output_type": "stream",
          "name": "stdout",
          "text": [
            "HelloHelloHello\n"
          ]
        }
      ]
    },
    {
      "cell_type": "code",
      "source": [
        "string1 = \"Hello\"\n",
        "print(string1[1])"
      ],
      "metadata": {
        "colab": {
          "base_uri": "https://localhost:8080/"
        },
        "id": "cPDY13kLNHKG",
        "outputId": "7102575d-e035-4cd0-f50a-088f007cdd52"
      },
      "execution_count": 29,
      "outputs": [
        {
          "output_type": "stream",
          "name": "stdout",
          "text": [
            "e\n"
          ]
        }
      ]
    },
    {
      "cell_type": "code",
      "source": [
        "string1 = \"Hello\"\n",
        "print(len(string1))"
      ],
      "metadata": {
        "colab": {
          "base_uri": "https://localhost:8080/"
        },
        "id": "0gimJTabNJTg",
        "outputId": "a544e4b5-eb37-4925-f694-323d0857b883"
      },
      "execution_count": 30,
      "outputs": [
        {
          "output_type": "stream",
          "name": "stdout",
          "text": [
            "5\n"
          ]
        }
      ]
    },
    {
      "cell_type": "code",
      "source": [
        "string1 = \"Hello\"\n",
        "print(\"H\" in string1)"
      ],
      "metadata": {
        "colab": {
          "base_uri": "https://localhost:8080/"
        },
        "id": "3eRX23msNLdZ",
        "outputId": "9dacc563-ad23-4a08-d86a-19836e15a8d4"
      },
      "execution_count": 31,
      "outputs": [
        {
          "output_type": "stream",
          "name": "stdout",
          "text": [
            "True\n"
          ]
        }
      ]
    },
    {
      "cell_type": "code",
      "source": [
        "name = \"John\"\n",
        "print(\"Hello, {}\".format(name))"
      ],
      "metadata": {
        "colab": {
          "base_uri": "https://localhost:8080/"
        },
        "id": "aAdVdZ5ONPFH",
        "outputId": "d66cf415-fcab-49e3-ec59-7a00ba99c3ff"
      },
      "execution_count": 32,
      "outputs": [
        {
          "output_type": "stream",
          "name": "stdout",
          "text": [
            "Hello, John\n"
          ]
        }
      ]
    },
    {
      "cell_type": "code",
      "source": [
        "string1 = \"Hello\"\n",
        "print(string1.upper())\n",
        "print(string1.lower())"
      ],
      "metadata": {
        "colab": {
          "base_uri": "https://localhost:8080/"
        },
        "id": "JrHHJSihNRZe",
        "outputId": "b9c5f615-0cc6-476d-cff6-a9fb4f2f8729"
      },
      "execution_count": 33,
      "outputs": [
        {
          "output_type": "stream",
          "name": "stdout",
          "text": [
            "HELLO\n",
            "hello\n"
          ]
        }
      ]
    },
    {
      "cell_type": "code",
      "source": [
        "string1 = \"Hello World\"\n",
        "string2 = string1.split()\n",
        "print(string2)"
      ],
      "metadata": {
        "colab": {
          "base_uri": "https://localhost:8080/"
        },
        "id": "0VOsJAw9NUOG",
        "outputId": "bbff9a83-c69c-44db-cd3a-0da55668de0a"
      },
      "execution_count": 34,
      "outputs": [
        {
          "output_type": "stream",
          "name": "stdout",
          "text": [
            "['Hello', 'World']\n"
          ]
        }
      ]
    },
    {
      "cell_type": "code",
      "source": [
        "string_list = ['Hello', 'World']\n",
        "string1 = \" \".join(string_list)\n",
        "print(string1)"
      ],
      "metadata": {
        "colab": {
          "base_uri": "https://localhost:8080/"
        },
        "id": "yC32KwYHNXH0",
        "outputId": "c39b8a19-df17-493c-93d9-e2a674bdd006"
      },
      "execution_count": 35,
      "outputs": [
        {
          "output_type": "stream",
          "name": "stdout",
          "text": [
            "Hello World\n"
          ]
        }
      ]
    },
    {
      "cell_type": "code",
      "source": [
        "string_list = ['Hello', 'World']\n",
        "string1 = \" \".join(string_list)\n",
        "print(string1)"
      ],
      "metadata": {
        "colab": {
          "base_uri": "https://localhost:8080/"
        },
        "id": "45FEipG8NZWf",
        "outputId": "7d9e5d2b-3713-43aa-8808-25e33efb1584"
      },
      "execution_count": 36,
      "outputs": [
        {
          "output_type": "stream",
          "name": "stdout",
          "text": [
            "Hello World\n"
          ]
        }
      ]
    },
    {
      "cell_type": "code",
      "source": [
        "string1 = \"Hello World\"\n",
        "string2 = string1.replace(\"World\", \"Universe\")\n",
        "print(string2)"
      ],
      "metadata": {
        "colab": {
          "base_uri": "https://localhost:8080/"
        },
        "id": "ljNhrmEONbjc",
        "outputId": "8d094913-8bab-4bbe-cf6f-929248fa37b3"
      },
      "execution_count": 37,
      "outputs": [
        {
          "output_type": "stream",
          "name": "stdout",
          "text": [
            "Hello Universe\n"
          ]
        }
      ]
    },
    {
      "cell_type": "code",
      "source": [
        "string1 = \"Hello World\"\n",
        "string2 = string1[:5] + \"Universe\"\n",
        "print(string2)"
      ],
      "metadata": {
        "colab": {
          "base_uri": "https://localhost:8080/"
        },
        "id": "MIFTztaINneo",
        "outputId": "d016c52a-d0fa-4d30-80d4-86438da4f4b1"
      },
      "execution_count": 38,
      "outputs": [
        {
          "output_type": "stream",
          "name": "stdout",
          "text": [
            "HelloUniverse\n"
          ]
        }
      ]
    },
    {
      "cell_type": "code",
      "source": [
        "bool1 = True\n",
        "bool2 = False\n",
        "print(int(bool1))\n",
        "print(int(bool2))"
      ],
      "metadata": {
        "colab": {
          "base_uri": "https://localhost:8080/"
        },
        "id": "H7nDAAvwNp_U",
        "outputId": "deae4213-40a8-4c7c-c724-ba9ffdf23e14"
      },
      "execution_count": 39,
      "outputs": [
        {
          "output_type": "stream",
          "name": "stdout",
          "text": [
            "1\n",
            "0\n"
          ]
        }
      ]
    },
    {
      "cell_type": "code",
      "source": [
        "num1 = 1\n",
        "num2 = 0\n",
        "print(bool(num1))\n",
        "print(bool(num2))\n"
      ],
      "metadata": {
        "colab": {
          "base_uri": "https://localhost:8080/"
        },
        "id": "wf3xRC3MNviR",
        "outputId": "ea3b724d-806c-4570-9cba-6b34c6514b13"
      },
      "execution_count": 40,
      "outputs": [
        {
          "output_type": "stream",
          "name": "stdout",
          "text": [
            "True\n",
            "False\n"
          ]
        }
      ]
    },
    {
      "cell_type": "code",
      "source": [],
      "metadata": {
        "id": "0lKwekiTNyX3"
      },
      "execution_count": null,
      "outputs": []
    }
  ]
}