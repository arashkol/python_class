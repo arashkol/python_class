{
  "nbformat": 4,
  "nbformat_minor": 0,
  "metadata": {
    "colab": {
      "provenance": [],
      "authorship_tag": "ABX9TyP3Jc1lsoDFiIkMa6pcttaR",
      "include_colab_link": true
    },
    "kernelspec": {
      "name": "python3",
      "display_name": "Python 3"
    },
    "language_info": {
      "name": "python"
    }
  },
  "cells": [
    {
      "cell_type": "markdown",
      "metadata": {
        "id": "view-in-github",
        "colab_type": "text"
      },
      "source": [
        "<a href=\"https://colab.research.google.com/github/arashkol/python_class/blob/main/wikipedia_click.ipynb\" target=\"_parent\"><img src=\"https://colab.research.google.com/assets/colab-badge.svg\" alt=\"Open In Colab\"/></a>"
      ]
    },
    {
      "cell_type": "code",
      "source": [
        "!pip install rdflib"
      ],
      "metadata": {
        "colab": {
          "base_uri": "https://localhost:8080/"
        },
        "id": "8O9JbA__p7Iu",
        "outputId": "ecea596d-2722-4acb-cc48-a60e4ffc44de"
      },
      "execution_count": null,
      "outputs": [
        {
          "output_type": "stream",
          "name": "stdout",
          "text": [
            "Looking in indexes: https://pypi.org/simple, https://us-python.pkg.dev/colab-wheels/public/simple/\n",
            "Collecting rdflib\n",
            "  Downloading rdflib-6.2.0-py3-none-any.whl (500 kB)\n",
            "\u001b[2K     \u001b[90m━━━━━━━━━━━━━━━━━━━━━━━━━━━━━━━━━━━━━━\u001b[0m \u001b[32m500.3/500.3 KB\u001b[0m \u001b[31m10.6 MB/s\u001b[0m eta \u001b[36m0:00:00\u001b[0m\n",
            "\u001b[?25hRequirement already satisfied: pyparsing in /usr/local/lib/python3.8/dist-packages (from rdflib) (3.0.9)\n",
            "Collecting isodate\n",
            "  Downloading isodate-0.6.1-py2.py3-none-any.whl (41 kB)\n",
            "\u001b[2K     \u001b[90m━━━━━━━━━━━━━━━━━━━━━━━━━━━━━━━━━━━━━━━━\u001b[0m \u001b[32m41.7/41.7 KB\u001b[0m \u001b[31m4.8 MB/s\u001b[0m eta \u001b[36m0:00:00\u001b[0m\n",
            "\u001b[?25hRequirement already satisfied: setuptools in /usr/local/lib/python3.8/dist-packages (from rdflib) (57.4.0)\n",
            "Requirement already satisfied: six in /usr/local/lib/python3.8/dist-packages (from isodate->rdflib) (1.15.0)\n",
            "Installing collected packages: isodate, rdflib\n",
            "Successfully installed isodate-0.6.1 rdflib-6.2.0\n"
          ]
        }
      ]
    },
    {
      "cell_type": "code",
      "execution_count": null,
      "metadata": {
        "id": "AKFbadrMPgbA"
      },
      "outputs": [],
      "source": [
        "from curses.ascii import isascii\n",
        "import requests\n",
        "from rdflib import Graph, Namespace, Literal, RDF, URIRef\n",
        "import gzip\n",
        "import re\n",
        "from urllib.parse import quote\n",
        "import pandas as pd\n"
      ]
    },
    {
      "cell_type": "code",
      "source": [
        "response = requests.get(\"https://dumps.wikimedia.org/other/clickstream/2023-01/clickstream-zhwiki-2023-01.tsv.gz\")\n"
      ],
      "metadata": {
        "id": "L2w9ycc8P0vM"
      },
      "execution_count": null,
      "outputs": []
    },
    {
      "cell_type": "code",
      "source": [
        "data = gzip.decompress(response.content).decode(\"utf-8\")"
      ],
      "metadata": {
        "id": "d8Js9KowP9pP"
      },
      "execution_count": null,
      "outputs": []
    },
    {
      "cell_type": "code",
      "source": [
        "def good_string(iri_string):\n",
        "    # Check if the IRI string contains illegal characters\n",
        "    if re.search(r\"[^\\u0020-\\u007E\\u00A0-\\u00FF\\u0100-\\u1FFF\\u2C00-\\uD7FF\\uF900-\\uFDCF\\uFDF0-\\uFFFD]\", iri_string):\n",
        "        return False\n",
        "\n",
        "    if (iri_string == None): return False\n",
        "    # Check if the IRI string is properly encoded in UTF-8\n",
        "    try:\n",
        "        iri_string.encode(\"utf-8\")\n",
        "    except UnicodeEncodeError:\n",
        "        return False\n",
        "\n",
        "    return True"
      ],
      "metadata": {
        "id": "OEpVFE8vRQmM"
      },
      "execution_count": null,
      "outputs": []
    },
    {
      "cell_type": "code",
      "source": [
        "def is_number(string):\n",
        "    try:\n",
        "        float(string)\n",
        "        return True\n",
        "    except ValueError:\n",
        "        return False"
      ],
      "metadata": {
        "id": "7tGTyNmIRTYV"
      },
      "execution_count": null,
      "outputs": []
    },
    {
      "cell_type": "code",
      "source": [
        "def has_only_ascii(string):\n",
        "    return all(char.isascii() for char in string)"
      ],
      "metadata": {
        "id": "o4xShLm3RVrM"
      },
      "execution_count": null,
      "outputs": []
    },
    {
      "cell_type": "code",
      "source": [
        "df = pd.DataFrame(columns=['from','clicks','to'])"
      ],
      "metadata": {
        "id": "VW4Yc10WRaNC"
      },
      "execution_count": null,
      "outputs": []
    },
    {
      "cell_type": "code",
      "source": [
        "for line in data.split(\"\\n\"):\n",
        "   # ll += 1\n",
        "    #if ll > 750000 : break\n",
        "    # Split the line into columns\n",
        "    columns = line.split(\"\\t\")\n",
        "\n",
        "    # Skip the header row\n",
        "    if columns[0] == \"source\" or len(columns)<2 \\\n",
        "    or columns[0] == \"other-empty\" \\\n",
        "    or \"other-search\" in columns[0] or \"other-internal\" in columns[0] or \"other-external\" in columns[0]\\\n",
        "    or \"other-empty\" in columns[1]\\\n",
        "    or \"other-search\" in columns[1] or \"other-internal\" in columns[1] or \"other-external\" in columns[1]\\\n",
        "    or \"other-empty\" in columns[2]\\\n",
        "    or \"other-search\" in columns[2] or  \"other-internal\" in columns[2] or \"other-external\" in columns[2]\\\n",
        "    or not is_number(columns[3]) or not has_only_ascii(columns[0])or not has_only_ascii(columns[1]):\n",
        "        continue\n",
        "\n",
        "    source = quote(columns[0])\n",
        "    \n",
        "    target = quote(columns[1])\n",
        "    clicks = columns[3]\n",
        "\n",
        "    if good_string(source) and good_string(target):\n",
        "        df = df.append({\"from\":source, \"clicks\":clicks, \"to\":target},ignore_index=True)"
      ],
      "metadata": {
        "id": "PZNU5s4hQFM3"
      },
      "execution_count": null,
      "outputs": []
    },
    {
      "cell_type": "code",
      "source": [
        "df.head()"
      ],
      "metadata": {
        "id": "lUp1NddpT7at",
        "colab": {
          "base_uri": "https://localhost:8080/",
          "height": 206
        },
        "outputId": "a447fa36-69a8-4fa8-f63a-c21cb90c2d65"
      },
      "execution_count": 138,
      "outputs": [
        {
          "output_type": "execute_result",
          "data": {
            "text/plain": [
              "        from clicks        to\n",
              "0   WhatsApp     12  Telegram\n",
              "1         TG     10  Telegram\n",
              "2  ALICESOFT     10  DARCROWS\n",
              "3       Hide     15      Hyde\n",
              "4      VAMPS     24      Hyde"
            ],
            "text/html": [
              "\n",
              "  <div id=\"df-9ae3dda7-2ded-4d46-b82d-6e559e474ab7\">\n",
              "    <div class=\"colab-df-container\">\n",
              "      <div>\n",
              "<style scoped>\n",
              "    .dataframe tbody tr th:only-of-type {\n",
              "        vertical-align: middle;\n",
              "    }\n",
              "\n",
              "    .dataframe tbody tr th {\n",
              "        vertical-align: top;\n",
              "    }\n",
              "\n",
              "    .dataframe thead th {\n",
              "        text-align: right;\n",
              "    }\n",
              "</style>\n",
              "<table border=\"1\" class=\"dataframe\">\n",
              "  <thead>\n",
              "    <tr style=\"text-align: right;\">\n",
              "      <th></th>\n",
              "      <th>from</th>\n",
              "      <th>clicks</th>\n",
              "      <th>to</th>\n",
              "    </tr>\n",
              "  </thead>\n",
              "  <tbody>\n",
              "    <tr>\n",
              "      <th>0</th>\n",
              "      <td>WhatsApp</td>\n",
              "      <td>12</td>\n",
              "      <td>Telegram</td>\n",
              "    </tr>\n",
              "    <tr>\n",
              "      <th>1</th>\n",
              "      <td>TG</td>\n",
              "      <td>10</td>\n",
              "      <td>Telegram</td>\n",
              "    </tr>\n",
              "    <tr>\n",
              "      <th>2</th>\n",
              "      <td>ALICESOFT</td>\n",
              "      <td>10</td>\n",
              "      <td>DARCROWS</td>\n",
              "    </tr>\n",
              "    <tr>\n",
              "      <th>3</th>\n",
              "      <td>Hide</td>\n",
              "      <td>15</td>\n",
              "      <td>Hyde</td>\n",
              "    </tr>\n",
              "    <tr>\n",
              "      <th>4</th>\n",
              "      <td>VAMPS</td>\n",
              "      <td>24</td>\n",
              "      <td>Hyde</td>\n",
              "    </tr>\n",
              "  </tbody>\n",
              "</table>\n",
              "</div>\n",
              "      <button class=\"colab-df-convert\" onclick=\"convertToInteractive('df-9ae3dda7-2ded-4d46-b82d-6e559e474ab7')\"\n",
              "              title=\"Convert this dataframe to an interactive table.\"\n",
              "              style=\"display:none;\">\n",
              "        \n",
              "  <svg xmlns=\"http://www.w3.org/2000/svg\" height=\"24px\"viewBox=\"0 0 24 24\"\n",
              "       width=\"24px\">\n",
              "    <path d=\"M0 0h24v24H0V0z\" fill=\"none\"/>\n",
              "    <path d=\"M18.56 5.44l.94 2.06.94-2.06 2.06-.94-2.06-.94-.94-2.06-.94 2.06-2.06.94zm-11 1L8.5 8.5l.94-2.06 2.06-.94-2.06-.94L8.5 2.5l-.94 2.06-2.06.94zm10 10l.94 2.06.94-2.06 2.06-.94-2.06-.94-.94-2.06-.94 2.06-2.06.94z\"/><path d=\"M17.41 7.96l-1.37-1.37c-.4-.4-.92-.59-1.43-.59-.52 0-1.04.2-1.43.59L10.3 9.45l-7.72 7.72c-.78.78-.78 2.05 0 2.83L4 21.41c.39.39.9.59 1.41.59.51 0 1.02-.2 1.41-.59l7.78-7.78 2.81-2.81c.8-.78.8-2.07 0-2.86zM5.41 20L4 18.59l7.72-7.72 1.47 1.35L5.41 20z\"/>\n",
              "  </svg>\n",
              "      </button>\n",
              "      \n",
              "  <style>\n",
              "    .colab-df-container {\n",
              "      display:flex;\n",
              "      flex-wrap:wrap;\n",
              "      gap: 12px;\n",
              "    }\n",
              "\n",
              "    .colab-df-convert {\n",
              "      background-color: #E8F0FE;\n",
              "      border: none;\n",
              "      border-radius: 50%;\n",
              "      cursor: pointer;\n",
              "      display: none;\n",
              "      fill: #1967D2;\n",
              "      height: 32px;\n",
              "      padding: 0 0 0 0;\n",
              "      width: 32px;\n",
              "    }\n",
              "\n",
              "    .colab-df-convert:hover {\n",
              "      background-color: #E2EBFA;\n",
              "      box-shadow: 0px 1px 2px rgba(60, 64, 67, 0.3), 0px 1px 3px 1px rgba(60, 64, 67, 0.15);\n",
              "      fill: #174EA6;\n",
              "    }\n",
              "\n",
              "    [theme=dark] .colab-df-convert {\n",
              "      background-color: #3B4455;\n",
              "      fill: #D2E3FC;\n",
              "    }\n",
              "\n",
              "    [theme=dark] .colab-df-convert:hover {\n",
              "      background-color: #434B5C;\n",
              "      box-shadow: 0px 1px 3px 1px rgba(0, 0, 0, 0.15);\n",
              "      filter: drop-shadow(0px 1px 2px rgba(0, 0, 0, 0.3));\n",
              "      fill: #FFFFFF;\n",
              "    }\n",
              "  </style>\n",
              "\n",
              "      <script>\n",
              "        const buttonEl =\n",
              "          document.querySelector('#df-9ae3dda7-2ded-4d46-b82d-6e559e474ab7 button.colab-df-convert');\n",
              "        buttonEl.style.display =\n",
              "          google.colab.kernel.accessAllowed ? 'block' : 'none';\n",
              "\n",
              "        async function convertToInteractive(key) {\n",
              "          const element = document.querySelector('#df-9ae3dda7-2ded-4d46-b82d-6e559e474ab7');\n",
              "          const dataTable =\n",
              "            await google.colab.kernel.invokeFunction('convertToInteractive',\n",
              "                                                     [key], {});\n",
              "          if (!dataTable) return;\n",
              "\n",
              "          const docLinkHtml = 'Like what you see? Visit the ' +\n",
              "            '<a target=\"_blank\" href=https://colab.research.google.com/notebooks/data_table.ipynb>data table notebook</a>'\n",
              "            + ' to learn more about interactive tables.';\n",
              "          element.innerHTML = '';\n",
              "          dataTable['output_type'] = 'display_data';\n",
              "          await google.colab.output.renderOutput(dataTable, element);\n",
              "          const docLink = document.createElement('div');\n",
              "          docLink.innerHTML = docLinkHtml;\n",
              "          element.appendChild(docLink);\n",
              "        }\n",
              "      </script>\n",
              "    </div>\n",
              "  </div>\n",
              "  "
            ]
          },
          "metadata": {},
          "execution_count": 138
        }
      ]
    },
    {
      "cell_type": "markdown",
      "source": [
        "# Look if \"Facebook\" is in the \"from\" nodes:"
      ],
      "metadata": {
        "id": "zOZ9Omt9tobX"
      }
    },
    {
      "cell_type": "code",
      "source": [
        "if \"Facebook\" in list(df[\"from\"]):\n",
        "  print(\"Facebook is in the \\\"from\\\" list\")\n",
        "else:\n",
        "  print(\"Facebook is not in the \\\"from\\\" list\")"
      ],
      "metadata": {
        "colab": {
          "base_uri": "https://localhost:8080/"
        },
        "id": "L44zpw4zt6a3",
        "outputId": "73407e87-b5a0-4cb7-ede8-405b11333465"
      },
      "execution_count": 139,
      "outputs": [
        {
          "output_type": "stream",
          "name": "stdout",
          "text": [
            "Facebook is in the \"from\" list\n"
          ]
        }
      ]
    },
    {
      "cell_type": "markdown",
      "source": [
        "#Check if an arbitrary string with the name \"from_node\" is in \"from\" nodes"
      ],
      "metadata": {
        "id": "TDheUjwYuj3s"
      }
    },
    {
      "cell_type": "code",
      "source": [
        "from_node = \"WhatsApp\"\n",
        "\n",
        "if from_node in list(df[\"from\"]):\n",
        "  print(f\"{from_node} is in the \\\"from\\\" list\")\n",
        "else:\n",
        "  print(f\"{from_node} is not in the \\\"from\\\" list\")"
      ],
      "metadata": {
        "colab": {
          "base_uri": "https://localhost:8080/"
        },
        "id": "MrN7BOAIuzUb",
        "outputId": "95d617f9-6607-4dd4-f52d-7372674e162d"
      },
      "execution_count": 140,
      "outputs": [
        {
          "output_type": "stream",
          "name": "stdout",
          "text": [
            "WhatsApp is in the \"from\" list\n"
          ]
        }
      ]
    },
    {
      "cell_type": "code",
      "source": [
        "# Using isin() function:\n",
        "from_node = \"WhatsApp\"\n",
        "\n",
        "if df[\"from\"].isin([from_node]).any():\n",
        "  print(f\"{from_node} is in the \\\"from\\\" list\")\n",
        "else:\n",
        "  print(f\"{from_node} is not in the \\\"from\\\" list\")"
      ],
      "metadata": {
        "colab": {
          "base_uri": "https://localhost:8080/"
        },
        "id": "yThotYg4vY39",
        "outputId": "a4fb93da-001b-4b0c-d666-2e2030f7a758"
      },
      "execution_count": 141,
      "outputs": [
        {
          "output_type": "stream",
          "name": "stdout",
          "text": [
            "WhatsApp is in the \"from\" list\n"
          ]
        }
      ]
    },
    {
      "cell_type": "code",
      "source": [
        "df[\"from\"].isin([from_node])"
      ],
      "metadata": {
        "colab": {
          "base_uri": "https://localhost:8080/"
        },
        "id": "Lz10BYCVxWX3",
        "outputId": "778f6c06-2089-4863-9886-de3d38dcce38"
      },
      "execution_count": 142,
      "outputs": [
        {
          "output_type": "execute_result",
          "data": {
            "text/plain": [
              "0        True\n",
              "1       False\n",
              "2       False\n",
              "3       False\n",
              "4       False\n",
              "        ...  \n",
              "3884    False\n",
              "3885    False\n",
              "3886    False\n",
              "3887    False\n",
              "3888    False\n",
              "Name: from, Length: 3889, dtype: bool"
            ]
          },
          "metadata": {},
          "execution_count": 142
        }
      ]
    },
    {
      "cell_type": "markdown",
      "source": [
        "# if, then, else and elif\n",
        "\n",
        "Given the index of a row in the dataframe, say if the connection between \"from\" and \"two\" is strong based on:\n",
        "\n",
        "**clicks <= 10 -> Weak connection**\n",
        "\n",
        "**10 < clicks <=  20  -> Normal connection**\n",
        "\n",
        "**50 < clicks -> Strong connection**"
      ],
      "metadata": {
        "id": "3otxuCU911fq"
      }
    },
    {
      "cell_type": "code",
      "source": [
        "row_index = 1000\n",
        "\n",
        "row = df.iloc[row_index]\n",
        "\n",
        "clicks = int(row[1])\n",
        "\n",
        "if clicks <= 10:\n",
        "  strength = \"low\"\n",
        "if clicks > 10 and clicks <= 20:\n",
        "  strength = \"normal\"\n",
        "if clicks > 50:\n",
        "  strength = \"strong\"\n",
        "\n",
        "print(f\"The connection between {row[0]} and {row[2]} is {strength}\")"
      ],
      "metadata": {
        "colab": {
          "base_uri": "https://localhost:8080/"
        },
        "id": "VKQsII4E276V",
        "outputId": "b1b136da-a9dc-449c-bd4f-08a092d4f7e1"
      },
      "execution_count": 143,
      "outputs": [
        {
          "output_type": "stream",
          "name": "stdout",
          "text": [
            "The connection between MIXNINE and ONF is normal\n"
          ]
        }
      ]
    },
    {
      "cell_type": "markdown",
      "source": [
        "#for loop\n",
        "Apply the same procedure to the first 10 rows of the DataFrame"
      ],
      "metadata": {
        "id": "NUprVVcR7C4u"
      }
    },
    {
      "cell_type": "code",
      "source": [
        "for row_index in range(0,10):\n",
        "\n",
        "    row = df.iloc[row_index]\n",
        "\n",
        "    clicks = int(row[1])\n",
        "\n",
        "    if clicks <= 10:\n",
        "        strength = \"low\"\n",
        "    elif clicks > 10 and clicks <= 20:\n",
        "        strength = \"normal\"\n",
        "    elif clicks > 20:\n",
        "        strength = \"strong\"\n",
        "\n",
        "    print(f\"In row {row_index} The connection between {row[0]} and {row[2]} is {strength}\")"
      ],
      "metadata": {
        "colab": {
          "base_uri": "https://localhost:8080/"
        },
        "id": "9LpKw1Zk68Gn",
        "outputId": "a9a07bbf-8824-4bfa-990b-c282b605c302"
      },
      "execution_count": 144,
      "outputs": [
        {
          "output_type": "stream",
          "name": "stdout",
          "text": [
            "In row 0 The connection between WhatsApp and Telegram is normal\n",
            "In row 1 The connection between TG and Telegram is low\n",
            "In row 2 The connection between ALICESOFT and DARCROWS is low\n",
            "In row 3 The connection between Hide and Hyde is normal\n",
            "In row 4 The connection between VAMPS and Hyde is strong\n",
            "In row 5 The connection between GLAMOROUS_SKY and Hyde is normal\n",
            "In row 6 The connection between YOLO and Memento_mori is normal\n",
            "In row 7 The connection between ClariS and Irony is strong\n",
            "In row 8 The connection between Nusinersen and Onasemnogene_abeparvovec is normal\n",
            "In row 9 The connection between Battle_Spirits and Battle_Spirits_Brave is strong\n"
          ]
        }
      ]
    },
    {
      "cell_type": "markdown",
      "source": [
        "#**pass** command in loops\n",
        "If the number of clicks is bigger than 20, do nothing, but keep the space in program to make decision later about what should be done in this case."
      ],
      "metadata": {
        "id": "KujINngz8l5q"
      }
    },
    {
      "cell_type": "code",
      "source": [
        "for row_index in range(0,10):\n",
        "\n",
        "    row = df.iloc[row_index]\n",
        "\n",
        "    clicks = int(row[1])\n",
        "\n",
        "    if clicks <= 10:\n",
        "        strength = \"low\"\n",
        "    elif clicks > 10 and clicks <= 20:\n",
        "        strength = \"normal\"\n",
        "    elif clicks > 20:\n",
        "        pass #do nothing\n",
        "\n",
        "    print(f\"In row {row_index} The connection between {row[0]} and {row[2]} is {strength}\")\n",
        "#find the bug... ;)"
      ],
      "metadata": {
        "colab": {
          "base_uri": "https://localhost:8080/"
        },
        "id": "5V-FPlLR9RSu",
        "outputId": "d7256e6d-e4f0-4248-be8d-dd9bfb6d4af3"
      },
      "execution_count": 145,
      "outputs": [
        {
          "output_type": "stream",
          "name": "stdout",
          "text": [
            "In row 0 The connection between WhatsApp and Telegram is normal\n",
            "In row 1 The connection between TG and Telegram is low\n",
            "In row 2 The connection between ALICESOFT and DARCROWS is low\n",
            "In row 3 The connection between Hide and Hyde is normal\n",
            "In row 4 The connection between VAMPS and Hyde is normal\n",
            "In row 5 The connection between GLAMOROUS_SKY and Hyde is normal\n",
            "In row 6 The connection between YOLO and Memento_mori is normal\n",
            "In row 7 The connection between ClariS and Irony is normal\n",
            "In row 8 The connection between Nusinersen and Onasemnogene_abeparvovec is normal\n",
            "In row 9 The connection between Battle_Spirits and Battle_Spirits_Brave is normal\n"
          ]
        }
      ]
    },
    {
      "cell_type": "markdown",
      "source": [
        "# **continue** command in loops\n",
        "Just in case the \"from\" columns is equal to \"Hide\" don't do anything and continue tracing the dataset. "
      ],
      "metadata": {
        "id": "JJZMK9iB9hoj"
      }
    },
    {
      "cell_type": "code",
      "source": [
        "for row_index in range(0,10):\n",
        "\n",
        "    row = df.iloc[row_index]\n",
        "\n",
        "    if row[0] == \"Hide\":\n",
        "      continue\n",
        "\n",
        "    clicks = int(row[1])\n",
        "\n",
        "    if clicks <= 10:\n",
        "        strength = \"low\"\n",
        "    elif clicks > 10 and clicks <= 20:\n",
        "        strength = \"normal\"\n",
        "    elif clicks > 20:\n",
        "        strength = \"strong\"\n",
        "\n",
        "    print(f\"In row {row_index} The connection between {row[0]} and {row[2]} is {strength}\")"
      ],
      "metadata": {
        "colab": {
          "base_uri": "https://localhost:8080/"
        },
        "id": "gtLTWcJlGSyZ",
        "outputId": "c37b6026-176c-467d-b621-f73c0524114d"
      },
      "execution_count": 146,
      "outputs": [
        {
          "output_type": "stream",
          "name": "stdout",
          "text": [
            "In row 0 The connection between WhatsApp and Telegram is normal\n",
            "In row 1 The connection between TG and Telegram is low\n",
            "In row 2 The connection between ALICESOFT and DARCROWS is low\n",
            "In row 4 The connection between VAMPS and Hyde is strong\n",
            "In row 5 The connection between GLAMOROUS_SKY and Hyde is normal\n",
            "In row 6 The connection between YOLO and Memento_mori is normal\n",
            "In row 7 The connection between ClariS and Irony is strong\n",
            "In row 8 The connection between Nusinersen and Onasemnogene_abeparvovec is normal\n",
            "In row 9 The connection between Battle_Spirits and Battle_Spirits_Brave is strong\n"
          ]
        }
      ]
    },
    {
      "cell_type": "markdown",
      "source": [
        "#**break** command in loops\n",
        "look of the first occurance of the word \"YOLO\", report the index and stop the search."
      ],
      "metadata": {
        "id": "TuTplXQrH8QW"
      }
    },
    {
      "cell_type": "code",
      "source": [
        "search_term = \"YOLO\"\n",
        "\n",
        "for row_index in range(0,10):\n",
        "\n",
        "    row = df.iloc[row_index]\n",
        "\n",
        "    if search_term in list(row):\n",
        "      print(search_term+f\" was found at the index {row_index}\")\n",
        "      break"
      ],
      "metadata": {
        "colab": {
          "base_uri": "https://localhost:8080/"
        },
        "id": "TLm6y7r2H4ak",
        "outputId": "69ff1784-e44a-4e1b-db44-ee3a803b216f"
      },
      "execution_count": 149,
      "outputs": [
        {
          "output_type": "stream",
          "name": "stdout",
          "text": [
            "YOLO was found at the index 6\n"
          ]
        }
      ]
    },
    {
      "cell_type": "markdown",
      "source": [
        "#**While** loop\n",
        "Gather a sum of 100 clicks in a list of (from, clicks, to) toupls. The sum could be more than 100, just in case by removing one of the elements the sum will be less than 100."
      ],
      "metadata": {
        "id": "z5Pm7cPjJYiD"
      }
    },
    {
      "cell_type": "code",
      "source": [
        "sum_clicks = 0\n",
        "row_index = 0\n",
        "\n",
        "while sum_clicks<100:\n",
        "\n",
        "  row = df.iloc[row_index]\n",
        "  row_index += 1\n",
        "  clicks = int(row[1])\n",
        "\n",
        "  sum_clicks += clicks\n",
        "\n",
        "print(f\"Sum of {sum_clicks} clicks was met at the index {row_index}\")\n"
      ],
      "metadata": {
        "colab": {
          "base_uri": "https://localhost:8080/"
        },
        "id": "7hq1PdFyKDVE",
        "outputId": "d832758e-efd7-41ed-fae7-c60f72e76da4"
      },
      "execution_count": 155,
      "outputs": [
        {
          "output_type": "stream",
          "name": "stdout",
          "text": [
            "Sum of 131 clicks was met at the index 8\n"
          ]
        }
      ]
    },
    {
      "cell_type": "code",
      "source": [
        "\n"
      ],
      "metadata": {
        "id": "QcfcIfaCMlk7"
      },
      "execution_count": null,
      "outputs": []
    }
  ]
}